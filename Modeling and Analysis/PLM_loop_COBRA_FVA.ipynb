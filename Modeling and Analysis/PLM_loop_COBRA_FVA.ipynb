{
 "cells": [
  {
   "cell_type": "code",
   "execution_count": 1,
   "id": "625405f5-c0c1-4a7b-8a91-46bc0b791e2c",
   "metadata": {},
   "outputs": [],
   "source": [
    "#Setting up PyCoMo\n",
    "#Install PyCoMo using pip or conda first in suitable conda environment (mine is in base environment) using anaconda prompt \n",
    "#we are going to import all the packages we need.\n",
    "from pathlib import Path\n",
    "import sys\n",
    "import cobra\n",
    "import os"
   ]
  },
  {
   "cell_type": "code",
   "execution_count": 2,
   "id": "96c39b8f-e8dc-4d08-8746-40870f519fad",
   "metadata": {},
   "outputs": [
    {
     "name": "stderr",
     "output_type": "stream",
     "text": [
      "2025-05-05 21:24:54,856 - pycomo - INFO - Logger initialized.\n",
      "2025-05-05 21:24:54,869 - pycomo - INFO - Process Pool Logger initialized.\n",
      "2025-05-05 21:24:54,869 - pycomo - INFO - Utils Logger initialized.\n",
      "2025-05-05 21:24:54,879 - pycomo - INFO - Multiprocess Logger initialized.\n",
      "2025-05-05 21:24:54,884 - pycomo - INFO - Log level set to info\n"
     ]
    }
   ],
   "source": [
    "#Importing PyCoMo\n",
    "#As PyCoMo is currently only available as a local package, the direct path to the package directory needs to be used on import.\n",
    "path_root = r\"C:\\Users\\incha\\anaconda3\\Lib\\site-packages\\pycomo\\__init__.py\"  # Change path according to your PyCoMo location\n",
    "sys.path.append(str(path_root))\n",
    "import pycomo\n",
    "pycomo.configure_logger(level=\"info\")"
   ]
  },
  {
   "cell_type": "code",
   "execution_count": 3,
   "id": "bbef83d8-1bb2-4872-9dbb-fd5bebaf1857",
   "metadata": {},
   "outputs": [
    {
     "name": "stdout",
     "output_type": "stream",
     "text": [
      "Set parameter WLSAccessID\n",
      "Set parameter WLSSecret\n",
      "Set parameter LicenseID to value 2660067\n",
      "Academic license 2660067 - for non-commercial use only - registered to t2___@students.iitmandi.ac.in\n"
     ]
    }
   ],
   "source": [
    "Model = pycomo.CommunityModel.load(r\"C:\\Users\\incha\\MTdata\\Indian_Community\\PLM.xml\")"
   ]
  },
  {
   "cell_type": "code",
   "execution_count": 4,
   "id": "769876fa-a286-4668-a5e6-edd8c6a26dc8",
   "metadata": {},
   "outputs": [
    {
     "data": {
      "text/plain": [
       "<pycomo.pycomo_models.CommunityModel at 0x154636ca900>"
      ]
     },
     "execution_count": 4,
     "metadata": {},
     "output_type": "execute_result"
    }
   ],
   "source": [
    "Model"
   ]
  },
  {
   "cell_type": "code",
   "execution_count": 5,
   "id": "94cda0da-0961-4134-891e-d666bd5cc4d8",
   "metadata": {},
   "outputs": [
    {
     "data": {
      "text/html": [
       "<strong><em>Optimal</em> solution with objective value 17.481</strong><br><div>\n",
       "<style scoped>\n",
       "    .dataframe tbody tr th:only-of-type {\n",
       "        vertical-align: middle;\n",
       "    }\n",
       "\n",
       "    .dataframe tbody tr th {\n",
       "        vertical-align: top;\n",
       "    }\n",
       "\n",
       "    .dataframe thead th {\n",
       "        text-align: right;\n",
       "    }\n",
       "</style>\n",
       "<table border=\"1\" class=\"dataframe\">\n",
       "  <thead>\n",
       "    <tr style=\"text-align: right;\">\n",
       "      <th></th>\n",
       "      <th>fluxes</th>\n",
       "      <th>reduced_costs</th>\n",
       "    </tr>\n",
       "  </thead>\n",
       "  <tbody>\n",
       "    <tr>\n",
       "      <th>Pc__12PPD_Stex</th>\n",
       "      <td>0.000000</td>\n",
       "      <td>-0.000000e+00</td>\n",
       "    </tr>\n",
       "    <tr>\n",
       "      <th>Pc__12PPDtpp</th>\n",
       "      <td>0.000000</td>\n",
       "      <td>-0.000000e+00</td>\n",
       "    </tr>\n",
       "    <tr>\n",
       "      <th>Pc__1HIBUPGLU_Stex</th>\n",
       "      <td>0.000000</td>\n",
       "      <td>-0.000000e+00</td>\n",
       "    </tr>\n",
       "    <tr>\n",
       "      <th>Pc__1HIBUP_S_GLCAASEepp</th>\n",
       "      <td>0.000000</td>\n",
       "      <td>0.000000e+00</td>\n",
       "    </tr>\n",
       "    <tr>\n",
       "      <th>Pc__1HIBUP_Stex</th>\n",
       "      <td>0.000000</td>\n",
       "      <td>-0.000000e+00</td>\n",
       "    </tr>\n",
       "    <tr>\n",
       "      <th>...</th>\n",
       "      <td>...</td>\n",
       "      <td>...</td>\n",
       "    </tr>\n",
       "    <tr>\n",
       "      <th>SK_Lr_TF_M01989_Lr_e_ub</th>\n",
       "      <td>0.074572</td>\n",
       "      <td>0.000000e+00</td>\n",
       "    </tr>\n",
       "    <tr>\n",
       "      <th>SK_Lr_to_community_biomass_ub</th>\n",
       "      <td>0.073268</td>\n",
       "      <td>0.000000e+00</td>\n",
       "    </tr>\n",
       "    <tr>\n",
       "      <th>f_final</th>\n",
       "      <td>1.000000</td>\n",
       "      <td>-0.000000e+00</td>\n",
       "    </tr>\n",
       "    <tr>\n",
       "      <th>abundance_reaction</th>\n",
       "      <td>17.480889</td>\n",
       "      <td>-1.025222e-15</td>\n",
       "    </tr>\n",
       "    <tr>\n",
       "      <th>community_biomass</th>\n",
       "      <td>17.480889</td>\n",
       "      <td>0.000000e+00</td>\n",
       "    </tr>\n",
       "  </tbody>\n",
       "</table>\n",
       "<p>10271 rows × 2 columns</p>\n",
       "</div>"
      ],
      "text/plain": [
       "<Solution 17.481 at 0x1540ad1ef00>"
      ]
     },
     "execution_count": 5,
     "metadata": {},
     "output_type": "execute_result"
    }
   ],
   "source": [
    "Model.model.optimize()"
   ]
  },
  {
   "cell_type": "code",
   "execution_count": 6,
   "id": "94b63ef9-3fad-49d9-8890-8e92ea46a648",
   "metadata": {},
   "outputs": [],
   "source": [
    "import pandas as pd\n",
    "fva = cobra.flux_analysis.flux_variability_analysis(Model.model, Model.model.reactions, fraction_of_optimum=0.9, loopless=False)\n",
    "\n",
    "# Save to Excel\n",
    "fva.to_excel(r\"C:\\Users\\incha\\MTdata\\Indian_Community\\PLM_loop_FVA_cobra.xlsx\")"
   ]
  },
  {
   "cell_type": "code",
   "execution_count": null,
   "id": "003af4b1-7767-4907-84d6-19f07b7220b0",
   "metadata": {},
   "outputs": [],
   "source": []
  }
 ],
 "metadata": {
  "kernelspec": {
   "display_name": "Python 3 (ipykernel)",
   "language": "python",
   "name": "python3"
  },
  "language_info": {
   "codemirror_mode": {
    "name": "ipython",
    "version": 3
   },
   "file_extension": ".py",
   "mimetype": "text/x-python",
   "name": "python",
   "nbconvert_exporter": "python",
   "pygments_lexer": "ipython3",
   "version": "3.12.3"
  }
 },
 "nbformat": 4,
 "nbformat_minor": 5
}
