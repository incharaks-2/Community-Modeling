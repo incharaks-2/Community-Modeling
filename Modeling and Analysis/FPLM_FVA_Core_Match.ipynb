{
 "cells": [
  {
   "cell_type": "code",
   "execution_count": null,
   "id": "ed442e3c-9a03-4cd8-ac02-fbc4f6b45875",
   "metadata": {},
   "outputs": [],
   "source": [
    "import pandas as pd\n",
    "\n",
    "# Load the Excel files\n",
    "reactions_df = pd.read_excel(r\"C:\\Users\\incha\\Downloads\\Results\\FPLM_loop_FVA_cobra.xlsx\")  # file with columns: reactions, minimum, maximum\n",
    "functions_df = pd.read_excel(r\"C:\\Users\\incha\\Downloads\\Results\\sort_keggbiggmatchcorefunc.xlsx\")  # file with columns: Core Function, KeggId, BiGG_IDs, Pathway\n",
    "\n",
    "# Preprocess BiGG_IDs into lists\n",
    "functions_df['BiGG_IDs_list'] = functions_df['BiGG_IDs'].astype(str).apply(lambda x: [i.strip() for i in x.split(',')])\n",
    "\n",
    "matched_rows = []\n",
    "unmatched_rows = []\n",
    "\n",
    "# Iterate through each reaction row\n",
    "for _, rxn_row in reactions_df.iterrows():\n",
    "    reaction = rxn_row['reactions']\n",
    "    reaction_parts = str(reaction).split('_')\n",
    "\n",
    "    matched = False\n",
    "    for _, func_row in functions_df.iterrows():\n",
    "        bigg_ids = func_row['BiGG_IDs_list']\n",
    "        \n",
    "        # Match if any part of the reaction is in any of the BiGG IDs\n",
    "        if any(part in bigg_ids for part in reaction_parts):\n",
    "            matched = True\n",
    "            matched_rows.append({\n",
    "                'reactions': reaction,\n",
    "                'minimum': rxn_row['minimum'],\n",
    "                'maximum': rxn_row['maximum'],\n",
    "                'Core Function': func_row['Core Function'],\n",
    "                'KeggId': func_row['KeggId'],\n",
    "                'Pathway': func_row['Pathway']\n",
    "            })\n",
    "\n",
    "    if not matched:\n",
    "        unmatched_rows.append({\n",
    "            'reactions': reaction,\n",
    "            'minimum': rxn_row['minimum'],\n",
    "            'maximum': rxn_row['maximum']\n",
    "        })\n",
    "\n",
    "# Create DataFrames from matched and unmatched\n",
    "matched_df = pd.DataFrame(matched_rows)\n",
    "unmatched_df = pd.DataFrame(unmatched_rows)\n",
    "\n",
    "# Save results to Excel\n",
    "matched_df.to_excel(r\"C:\\Users\\incha\\Downloads\\Results\\FPLM_FVA_Core_Match.xlsx\", index=False)\n",
    "unmatched_df.to_excel(r\"C:\\Users\\incha\\Downloads\\Results\\FPLM_FVA_Core_Unmatch.xlsx\", index=False)\n"
   ]
  },
  {
   "cell_type": "code",
   "execution_count": null,
   "id": "b9d4264f-2c62-4afd-ac30-46175d4d00a1",
   "metadata": {},
   "outputs": [],
   "source": []
  }
 ],
 "metadata": {
  "kernelspec": {
   "display_name": "Python 3 (ipykernel)",
   "language": "python",
   "name": "python3"
  },
  "language_info": {
   "codemirror_mode": {
    "name": "ipython",
    "version": 3
   },
   "file_extension": ".py",
   "mimetype": "text/x-python",
   "name": "python",
   "nbconvert_exporter": "python",
   "pygments_lexer": "ipython3",
   "version": "3.12.3"
  }
 },
 "nbformat": 4,
 "nbformat_minor": 5
}
